{
 "cells": [
  {
   "cell_type": "code",
   "execution_count": 1,
   "metadata": {},
   "outputs": [
    {
     "data": {
      "text/plain": [
       "'Helow'"
      ]
     },
     "execution_count": 1,
     "metadata": {},
     "output_type": "execute_result"
    }
   ],
   "source": [
    "'Helow'"
   ]
  },
  {
   "cell_type": "code",
   "execution_count": 74,
   "metadata": {
    "scrolled": false
   },
   "outputs": [
    {
     "data": {
      "image/png": "[encoded data removed]",
      "text/plain": [
       "<Figure size 432x288 with 1 Axes>"
      ]
     },
     "metadata": {},
     "output_type": "display_data"
    }
   ],
   "source": [
    "import pandas as pd\n",
    "import matplotlib.pyplot as plt\n",
    "\n",
    "ages_x= [26,27,28,29,30,31,32,33,34,35,36]\n",
    "dev_y= [2000, 4828, 6009, 7890,9909,\n",
    "        18997,19469,20878,24188,36878,45689]\n",
    "\n",
    "plt.bar(ages_x, dev_y,label = \"All Devs\")\n",
    "\n",
    "age_x= [19,22,18,20,32,39,34,55,20,77,86]\n",
    "py_dev_y=[5009,8090,3609,6117,5942,\n",
    "         5797,9469,8878,6178,8578,6800]\n",
    "\n",
    "plt.bar (age_x, py_dev_y, label= \"Phyton\")\n",
    "\n",
    "plt.title('Median Salary (USD) by age')\n",
    "plt.xlabel ('Ages')\n",
    "plt.ylabel ('Salary')\n",
    "\n",
    "\n",
    "\n",
    "plt.legend ()\n",
    "\n",
    "plt.show ()\n",
    "\n"
   ]
  },
  {
   "cell_type": "code",
   "execution_count": 21,
   "metadata": {
    "scrolled": true
   },
   "outputs": [],
   "source": [
    "import numpy as np\n",
    "import pandas as pd\n",
    "\n",
    "#Reading the dataset\n",
    "\n",
    "\n",
    "df=pd.read_csv(r'C:\\Users\\ASUS\\Downloads\\Ins.csv')  \n"
   ]
  },
  {
   "cell_type": "code",
   "execution_count": 19,
   "metadata": {
    "scrolled": true
   },
   "outputs": [
    {
     "data": {
      "text/html": [
       "<div>\n",
       "<style scoped>\n",
       "    .dataframe tbody tr th:only-of-type {\n",
       "        vertical-align: middle;\n",
       "    }\n",
       "\n",
       "    .dataframe tbody tr th {\n",
       "        vertical-align: top;\n",
       "    }\n",
       "\n",
       "    .dataframe thead th {\n",
       "        text-align: right;\n",
       "    }\n",
       "</style>\n",
       "<table border=\"1\" class=\"dataframe\">\n",
       "  <thead>\n",
       "    <tr style=\"text-align: right;\">\n",
       "      <th></th>\n",
       "      <th>policyID</th>\n",
       "      <th>statecode</th>\n",
       "      <th>county</th>\n",
       "      <th>eq_site_limit</th>\n",
       "      <th>hu_site_limit</th>\n",
       "      <th>fl_site_limit</th>\n",
       "      <th>fr_site_limit</th>\n",
       "      <th>tiv_2011</th>\n",
       "      <th>tiv_2012</th>\n",
       "      <th>eq_site_deductible</th>\n",
       "      <th>hu_site_deductible</th>\n",
       "      <th>fl_site_deductible</th>\n",
       "      <th>fr_site_deductible</th>\n",
       "      <th>point_latitude</th>\n",
       "      <th>point_longitude</th>\n",
       "      <th>line</th>\n",
       "      <th>construction</th>\n",
       "      <th>point_granularity</th>\n",
       "    </tr>\n",
       "  </thead>\n",
       "  <tbody>\n",
       "    <tr>\n",
       "      <th>0</th>\n",
       "      <td>119736</td>\n",
       "      <td>FL</td>\n",
       "      <td>CLAY COUNTY</td>\n",
       "      <td>498960.0</td>\n",
       "      <td>498960.00</td>\n",
       "      <td>498960.0</td>\n",
       "      <td>498960.0</td>\n",
       "      <td>498960.00</td>\n",
       "      <td>792148.90</td>\n",
       "      <td>0.0</td>\n",
       "      <td>9979.2</td>\n",
       "      <td>0.0</td>\n",
       "      <td>0</td>\n",
       "      <td>30.102261</td>\n",
       "      <td>-81.711777</td>\n",
       "      <td>Residential</td>\n",
       "      <td>Masonry</td>\n",
       "      <td>1</td>\n",
       "    </tr>\n",
       "    <tr>\n",
       "      <th>1</th>\n",
       "      <td>448094</td>\n",
       "      <td>FL</td>\n",
       "      <td>CLAY COUNTY</td>\n",
       "      <td>1322376.3</td>\n",
       "      <td>1322376.30</td>\n",
       "      <td>1322376.3</td>\n",
       "      <td>1322376.3</td>\n",
       "      <td>1322376.30</td>\n",
       "      <td>1438163.57</td>\n",
       "      <td>0.0</td>\n",
       "      <td>0.0</td>\n",
       "      <td>0.0</td>\n",
       "      <td>0</td>\n",
       "      <td>30.063936</td>\n",
       "      <td>-81.707664</td>\n",
       "      <td>Residential</td>\n",
       "      <td>Masonry</td>\n",
       "      <td>3</td>\n",
       "    </tr>\n",
       "    <tr>\n",
       "      <th>2</th>\n",
       "      <td>206893</td>\n",
       "      <td>FL</td>\n",
       "      <td>CLAY COUNTY</td>\n",
       "      <td>190724.4</td>\n",
       "      <td>190724.40</td>\n",
       "      <td>190724.4</td>\n",
       "      <td>190724.4</td>\n",
       "      <td>190724.40</td>\n",
       "      <td>192476.78</td>\n",
       "      <td>0.0</td>\n",
       "      <td>0.0</td>\n",
       "      <td>0.0</td>\n",
       "      <td>0</td>\n",
       "      <td>30.089579</td>\n",
       "      <td>-81.700455</td>\n",
       "      <td>Residential</td>\n",
       "      <td>Wood</td>\n",
       "      <td>1</td>\n",
       "    </tr>\n",
       "    <tr>\n",
       "      <th>3</th>\n",
       "      <td>333743</td>\n",
       "      <td>FL</td>\n",
       "      <td>CLAY COUNTY</td>\n",
       "      <td>0.0</td>\n",
       "      <td>79520.76</td>\n",
       "      <td>0.0</td>\n",
       "      <td>0.0</td>\n",
       "      <td>79520.76</td>\n",
       "      <td>86854.48</td>\n",
       "      <td>0.0</td>\n",
       "      <td>0.0</td>\n",
       "      <td>0.0</td>\n",
       "      <td>0</td>\n",
       "      <td>30.063236</td>\n",
       "      <td>-81.707703</td>\n",
       "      <td>Residential</td>\n",
       "      <td>Wood</td>\n",
       "      <td>3</td>\n",
       "    </tr>\n",
       "    <tr>\n",
       "      <th>4</th>\n",
       "      <td>172534</td>\n",
       "      <td>FL</td>\n",
       "      <td>CLAY COUNTY</td>\n",
       "      <td>0.0</td>\n",
       "      <td>254281.50</td>\n",
       "      <td>0.0</td>\n",
       "      <td>254281.5</td>\n",
       "      <td>254281.50</td>\n",
       "      <td>246144.49</td>\n",
       "      <td>0.0</td>\n",
       "      <td>0.0</td>\n",
       "      <td>0.0</td>\n",
       "      <td>0</td>\n",
       "      <td>30.060614</td>\n",
       "      <td>-81.702675</td>\n",
       "      <td>Residential</td>\n",
       "      <td>Wood</td>\n",
       "      <td>1</td>\n",
       "    </tr>\n",
       "  </tbody>\n",
       "</table>\n",
       "</div>"
      ],
      "text/plain": [
       "   policyID statecode       county  eq_site_limit  hu_site_limit  \\\n",
       "0    119736        FL  CLAY COUNTY       498960.0      498960.00   \n",
       "1    448094        FL  CLAY COUNTY      1322376.3     1322376.30   \n",
       "2    206893        FL  CLAY COUNTY       190724.4      190724.40   \n",
       "3    333743        FL  CLAY COUNTY            0.0       79520.76   \n",
       "4    172534        FL  CLAY COUNTY            0.0      254281.50   \n",
       "\n",
       "   fl_site_limit  fr_site_limit    tiv_2011    tiv_2012  eq_site_deductible  \\\n",
       "0       498960.0       498960.0   498960.00   792148.90                 0.0   \n",
       "1      1322376.3      1322376.3  1322376.30  1438163.57                 0.0   \n",
       "2       190724.4       190724.4   190724.40   192476.78                 0.0   \n",
       "3            0.0            0.0    79520.76    86854.48                 0.0   \n",
       "4            0.0       254281.5   254281.50   246144.49                 0.0   \n",
       "\n",
       "   hu_site_deductible  fl_site_deductible  fr_site_deductible  point_latitude  \\\n",
       "0              9979.2                 0.0                   0       30.102261   \n",
       "1                 0.0                 0.0                   0       30.063936   \n",
       "2                 0.0                 0.0                   0       30.089579   \n",
       "3                 0.0                 0.0                   0       30.063236   \n",
       "4                 0.0                 0.0                   0       30.060614   \n",
       "\n",
       "   point_longitude         line construction  point_granularity  \n",
       "0       -81.711777  Residential      Masonry                  1  \n",
       "1       -81.707664  Residential      Masonry                  3  \n",
       "2       -81.700455  Residential         Wood                  1  \n",
       "3       -81.707703  Residential         Wood                  3  \n",
       "4       -81.702675  Residential         Wood                  1  "
      ]
     },
     "execution_count": 19,
     "metadata": {},
     "output_type": "execute_result"
    }
   ],
   "source": [
    "df.head()"
   ]
  },
  {
   "cell_type": "code",
   "execution_count": 112,
   "metadata": {
    "scrolled": true
   },
   "outputs": [
    {
     "name": "stdout",
     "output_type": "stream",
     "text": [
      "       policyID statecode           county  eq_site_limit  hu_site_limit  \\\n",
      "0        119736        FL      CLAY COUNTY       498960.0      498960.00   \n",
      "1        448094        FL      CLAY COUNTY      1322376.3     1322376.30   \n",
      "2        206893        FL      CLAY COUNTY       190724.4      190724.40   \n",
      "3        333743        FL      CLAY COUNTY            0.0       79520.76   \n",
      "4        172534        FL      CLAY COUNTY            0.0      254281.50   \n",
      "...         ...       ...              ...            ...            ...   \n",
      "36629    404309        FL  PINELLAS COUNTY            0.0       88722.00   \n",
      "36630    465875        FL  PINELLAS COUNTY      1297057.5     1297057.50   \n",
      "36631    791209        FL  PINELLAS COUNTY       173286.9      173286.90   \n",
      "36632    322627        FL  PINELLAS COUNTY      1499781.6     1499781.60   \n",
      "36633    398149        FL  PINELLAS COUNTY       373488.3      373488.30   \n",
      "\n",
      "       fl_site_limit  fr_site_limit    tiv_2011    tiv_2012  \\\n",
      "0           498960.0       498960.0   498960.00   792148.90   \n",
      "1          1322376.3      1322376.3  1322376.30  1438163.57   \n",
      "2           190724.4       190724.4   190724.40   192476.78   \n",
      "3                0.0            0.0    79520.76    86854.48   \n",
      "4                0.0       254281.5   254281.50   246144.49   \n",
      "...              ...            ...         ...         ...   \n",
      "36629            0.0        88722.0    88722.00   155065.65   \n",
      "36630      1297057.5      1297057.5  1297057.50  1577500.79   \n",
      "36631            0.0            0.0   173286.90   205527.97   \n",
      "36632            0.0            0.0  1499781.60  1768782.43   \n",
      "36633            0.0            0.0   373488.30   596003.67   \n",
      "\n",
      "       eq_site_deductible  hu_site_deductible  fl_site_deductible  \\\n",
      "0                     0.0              9979.2                 0.0   \n",
      "1                     0.0                 0.0                 0.0   \n",
      "2                     0.0                 0.0                 0.0   \n",
      "3                     0.0                 0.0                 0.0   \n",
      "4                     0.0                 0.0                 0.0   \n",
      "...                   ...                 ...                 ...   \n",
      "36629                 0.0                 0.0                 0.0   \n",
      "36630                 0.0                 0.0                 0.0   \n",
      "36631                 0.0                 0.0                 0.0   \n",
      "36632                 0.0                 0.0                 0.0   \n",
      "36633                 0.0                 0.0                 0.0   \n",
      "\n",
      "       fr_site_deductible  point_latitude  point_longitude         line  \\\n",
      "0                       0       30.102261       -81.711777  Residential   \n",
      "1                       0       30.063936       -81.707664  Residential   \n",
      "2                       0       30.089579       -81.700455  Residential   \n",
      "3                       0       30.063236       -81.707703  Residential   \n",
      "4                       0       30.060614       -81.702675  Residential   \n",
      "...                   ...             ...              ...          ...   \n",
      "36629                   0       28.122885       -82.770218  Residential   \n",
      "36630                   0       28.080900       -82.758800  Residential   \n",
      "36631                   0       28.110550       -82.766360  Residential   \n",
      "36632                   0       28.089415       -82.697411  Residential   \n",
      "36633                   0       28.064440       -82.774590  Residential   \n",
      "\n",
      "      construction  point_granularity  \n",
      "0          Masonry                  1  \n",
      "1          Masonry                  3  \n",
      "2             Wood                  1  \n",
      "3             Wood                  3  \n",
      "4             Wood                  1  \n",
      "...            ...                ...  \n",
      "36629         Wood                  3  \n",
      "36630      Masonry                  1  \n",
      "36631         Wood                  4  \n",
      "36632      Masonry                  3  \n",
      "36633      Masonry                  1  \n",
      "\n",
      "[36634 rows x 18 columns]\n"
     ]
    }
   ],
   "source": [
    "import numpy as np\n",
    "import pandas as pd\n",
    "\n",
    "#Reading the dataset\n",
    "\n",
    "\n",
    "df=pd.read_csv(r'C:\\Users\\ASUS\\Downloads\\Ins.csv')  \n",
    "print(df)"
   ]
  },
  {
   "cell_type": "code",
   "execution_count": 38,
   "metadata": {},
   "outputs": [
    {
     "name": "stdout",
     "output_type": "stream",
     "text": [
      "   policyID statecode       county  eq_site_limit  hu_site_limit  \\\n",
      "0    119736        FL  CLAY COUNTY       498960.0      498960.00   \n",
      "1    448094        FL  CLAY COUNTY      1322376.3     1322376.30   \n",
      "2    206893        FL  CLAY COUNTY       190724.4      190724.40   \n",
      "3    333743        FL  CLAY COUNTY            0.0       79520.76   \n",
      "4    172534        FL  CLAY COUNTY            0.0      254281.50   \n",
      "5    785275        FL  CLAY COUNTY            0.0      515035.62   \n",
      "\n",
      "   fl_site_limit  fr_site_limit    tiv_2011    tiv_2012  eq_site_deductible  \\\n",
      "0       498960.0       498960.0   498960.00   792148.90                 0.0   \n",
      "1      1322376.3      1322376.3  1322376.30  1438163.57                 0.0   \n",
      "2       190724.4       190724.4   190724.40   192476.78                 0.0   \n",
      "3            0.0            0.0    79520.76    86854.48                 0.0   \n",
      "4            0.0       254281.5   254281.50   246144.49                 0.0   \n",
      "5            0.0            0.0   515035.62   884419.17                 0.0   \n",
      "\n",
      "   hu_site_deductible  fl_site_deductible  fr_site_deductible  point_latitude  \\\n",
      "0              9979.2                 0.0                   0       30.102261   \n",
      "1                 0.0                 0.0                   0       30.063936   \n",
      "2                 0.0                 0.0                   0       30.089579   \n",
      "3                 0.0                 0.0                   0       30.063236   \n",
      "4                 0.0                 0.0                   0       30.060614   \n",
      "5                 0.0                 0.0                   0       30.063236   \n",
      "\n",
      "   point_longitude         line construction  point_granularity  \n",
      "0       -81.711777  Residential      Masonry                  1  \n",
      "1       -81.707664  Residential      Masonry                  3  \n",
      "2       -81.700455  Residential         Wood                  1  \n",
      "3       -81.707703  Residential         Wood                  3  \n",
      "4       -81.702675  Residential         Wood                  1  \n",
      "5       -81.707703  Residential      Masonry                  3  \n",
      "0        119736\n",
      "1        448094\n",
      "2        206893\n",
      "3        333743\n",
      "4        172534\n",
      "          ...  \n",
      "36629    404309\n",
      "36630    465875\n",
      "36631    791209\n",
      "36632    322627\n",
      "36633    398149\n",
      "Name: policyID, Length: 36634, dtype: int64\n"
     ]
    }
   ],
   "source": [
    "import numpy as np\n",
    "import pandas as pd\n",
    "\n",
    "df=pd.read_csv(r'C:\\Users\\ASUS\\Downloads\\Ins.csv')  \n",
    "\n",
    "print(df[:6])"
   ]
  },
  {
   "cell_type": "code",
   "execution_count": 39,
   "metadata": {},
   "outputs": [
    {
     "name": "stdout",
     "output_type": "stream",
     "text": [
      "0        119736\n",
      "1        448094\n",
      "2        206893\n",
      "3        333743\n",
      "4        172534\n",
      "          ...  \n",
      "36629    404309\n",
      "36630    465875\n",
      "36631    791209\n",
      "36632    322627\n",
      "36633    398149\n",
      "Name: policyID, Length: 36634, dtype: int64\n"
     ]
    }
   ],
   "source": [
    "print(df['policyID'])"
   ]
  },
  {
   "cell_type": "code",
   "execution_count": 45,
   "metadata": {
    "scrolled": true
   },
   "outputs": [
    {
     "name": "stdout",
     "output_type": "stream",
     "text": [
      "                county  eq_site_limit  point_latitude         line\n",
      "0          CLAY COUNTY       498960.0       30.102261  Residential\n",
      "1          CLAY COUNTY      1322376.3       30.063936  Residential\n",
      "2          CLAY COUNTY       190724.4       30.089579  Residential\n",
      "3          CLAY COUNTY            0.0       30.063236  Residential\n",
      "4          CLAY COUNTY            0.0       30.060614  Residential\n",
      "...                ...            ...             ...          ...\n",
      "36629  PINELLAS COUNTY            0.0       28.122885  Residential\n",
      "36630  PINELLAS COUNTY      1297057.5       28.080900  Residential\n",
      "36631  PINELLAS COUNTY       173286.9       28.110550  Residential\n",
      "36632  PINELLAS COUNTY      1499781.6       28.089415  Residential\n",
      "36633  PINELLAS COUNTY       373488.3       28.064440  Residential\n",
      "\n",
      "[36634 rows x 4 columns]\n"
     ]
    }
   ],
   "source": [
    "print(df.loc[:,['county','eq_site_limit','point_latitude','line']])  "
   ]
  },
  {
   "cell_type": "code",
   "execution_count": 66,
   "metadata": {},
   "outputs": [],
   "source": [
    "import matplotlib.pyplot as plt\n",
    "import seaborn as sns\n",
    "sns.set_style('white')\n"
   ]
  },
  {
   "cell_type": "code",
   "execution_count": 83,
   "metadata": {
    "scrolled": false
   },
   "outputs": [
    {
     "data": {
      "text/plain": [
       "line\n",
       "Commercial      5796\n",
       "Residential    30838\n",
       "Name: county, dtype: int64"
      ]
     },
     "execution_count": 83,
     "metadata": {},
     "output_type": "execute_result"
    }
   ],
   "source": [
    "df.groupby('line')['county'].count().sort_values(ascending=True).head()"
   ]
  },
  {
   "cell_type": "code",
   "execution_count": 82,
   "metadata": {},
   "outputs": [
    {
     "data": {
      "text/plain": [
       "county\n",
       "ORANGE COUNTY          4.296972e+06\n",
       "HERNANDO COUNTY        1.832568e+06\n",
       "HILLSBOROUGH COUNTY    1.620474e+06\n",
       "BAY COUNTY             1.588688e+06\n",
       "LAKE COUNTY            1.504018e+06\n",
       "Name: eq_site_limit, dtype: float64"
      ]
     },
     "execution_count": 82,
     "metadata": {},
     "output_type": "execute_result"
    }
   ],
   "source": [
    "df.groupby('county')['eq_site_limit'].mean().sort_values(ascending=False).head()"
   ]
  },
  {
   "cell_type": "code",
   "execution_count": 94,
   "metadata": {},
   "outputs": [
    {
     "data": {
      "text/html": [
       "<div>\n",
       "<style scoped>\n",
       "    .dataframe tbody tr th:only-of-type {\n",
       "        vertical-align: middle;\n",
       "    }\n",
       "\n",
       "    .dataframe tbody tr th {\n",
       "        vertical-align: top;\n",
       "    }\n",
       "\n",
       "    .dataframe thead th {\n",
       "        text-align: right;\n",
       "    }\n",
       "</style>\n",
       "<table border=\"1\" class=\"dataframe\">\n",
       "  <thead>\n",
       "    <tr style=\"text-align: right;\">\n",
       "      <th></th>\n",
       "      <th>eq_site_limit</th>\n",
       "    </tr>\n",
       "    <tr>\n",
       "      <th>county</th>\n",
       "      <th></th>\n",
       "    </tr>\n",
       "  </thead>\n",
       "  <tbody>\n",
       "    <tr>\n",
       "      <th>ALACHUA COUNTY</th>\n",
       "      <td>4.359042e+05</td>\n",
       "    </tr>\n",
       "    <tr>\n",
       "      <th>BAKER COUNTY</th>\n",
       "      <td>4.078065e+04</td>\n",
       "    </tr>\n",
       "    <tr>\n",
       "      <th>BAY COUNTY</th>\n",
       "      <td>1.588688e+06</td>\n",
       "    </tr>\n",
       "    <tr>\n",
       "      <th>BRADFORD COUNTY</th>\n",
       "      <td>1.202438e+06</td>\n",
       "    </tr>\n",
       "    <tr>\n",
       "      <th>BREVARD COUNTY</th>\n",
       "      <td>3.184718e+05</td>\n",
       "    </tr>\n",
       "  </tbody>\n",
       "</table>\n",
       "</div>"
      ],
      "text/plain": [
       "                 eq_site_limit\n",
       "county                        \n",
       "ALACHUA COUNTY    4.359042e+05\n",
       "BAKER COUNTY      4.078065e+04\n",
       "BAY COUNTY        1.588688e+06\n",
       "BRADFORD COUNTY   1.202438e+06\n",
       "BREVARD COUNTY    3.184718e+05"
      ]
     },
     "execution_count": 94,
     "metadata": {},
     "output_type": "execute_result"
    }
   ],
   "source": [
    "county_s = pd.DataFrame(df.groupby('county')['eq_site_limit'].mean())\n",
    "county_s.head()"
   ]
  },
  {
   "cell_type": "code",
   "execution_count": 98,
   "metadata": {},
   "outputs": [
    {
     "data": {
      "text/html": [
       "<div>\n",
       "<style scoped>\n",
       "    .dataframe tbody tr th:only-of-type {\n",
       "        vertical-align: middle;\n",
       "    }\n",
       "\n",
       "    .dataframe tbody tr th {\n",
       "        vertical-align: top;\n",
       "    }\n",
       "\n",
       "    .dataframe thead th {\n",
       "        text-align: right;\n",
       "    }\n",
       "</style>\n",
       "<table border=\"1\" class=\"dataframe\">\n",
       "  <thead>\n",
       "    <tr style=\"text-align: right;\">\n",
       "      <th></th>\n",
       "      <th>tiv_2011</th>\n",
       "    </tr>\n",
       "    <tr>\n",
       "      <th>county</th>\n",
       "      <th></th>\n",
       "    </tr>\n",
       "  </thead>\n",
       "  <tbody>\n",
       "    <tr>\n",
       "      <th>ALACHUA COUNTY</th>\n",
       "      <td>8.479142e+05</td>\n",
       "    </tr>\n",
       "    <tr>\n",
       "      <th>BAKER COUNTY</th>\n",
       "      <td>1.758815e+05</td>\n",
       "    </tr>\n",
       "    <tr>\n",
       "      <th>BAY COUNTY</th>\n",
       "      <td>2.628984e+06</td>\n",
       "    </tr>\n",
       "    <tr>\n",
       "      <th>BRADFORD COUNTY</th>\n",
       "      <td>1.304817e+06</td>\n",
       "    </tr>\n",
       "    <tr>\n",
       "      <th>BREVARD COUNTY</th>\n",
       "      <td>1.541210e+06</td>\n",
       "    </tr>\n",
       "  </tbody>\n",
       "</table>\n",
       "</div>"
      ],
      "text/plain": [
       "                     tiv_2011\n",
       "county                       \n",
       "ALACHUA COUNTY   8.479142e+05\n",
       "BAKER COUNTY     1.758815e+05\n",
       "BAY COUNTY       2.628984e+06\n",
       "BRADFORD COUNTY  1.304817e+06\n",
       "BREVARD COUNTY   1.541210e+06"
      ]
     },
     "execution_count": 98,
     "metadata": {},
     "output_type": "execute_result"
    }
   ],
   "source": [
    "county_s = pd.DataFrame(df.groupby('county')['tiv_2011'] .mean())\n",
    "county_s.head()"
   ]
  },
  {
   "cell_type": "code",
   "execution_count": 110,
   "metadata": {},
   "outputs": [
    {
     "data": {
      "text/html": [
       "<div>\n",
       "<style scoped>\n",
       "    .dataframe tbody tr th:only-of-type {\n",
       "        vertical-align: middle;\n",
       "    }\n",
       "\n",
       "    .dataframe tbody tr th {\n",
       "        vertical-align: top;\n",
       "    }\n",
       "\n",
       "    .dataframe thead th {\n",
       "        text-align: right;\n",
       "    }\n",
       "</style>\n",
       "<table border=\"1\" class=\"dataframe\">\n",
       "  <thead>\n",
       "    <tr style=\"text-align: right;\">\n",
       "      <th></th>\n",
       "      <th>tiv_2012</th>\n",
       "    </tr>\n",
       "    <tr>\n",
       "      <th>policyID</th>\n",
       "      <th></th>\n",
       "    </tr>\n",
       "  </thead>\n",
       "  <tbody>\n",
       "    <tr>\n",
       "      <th>100074</th>\n",
       "      <td>36878.76</td>\n",
       "    </tr>\n",
       "    <tr>\n",
       "      <th>100123</th>\n",
       "      <td>6774.39</td>\n",
       "    </tr>\n",
       "    <tr>\n",
       "      <th>100141</th>\n",
       "      <td>559055.01</td>\n",
       "    </tr>\n",
       "    <tr>\n",
       "      <th>100183</th>\n",
       "      <td>75451.36</td>\n",
       "    </tr>\n",
       "    <tr>\n",
       "      <th>100203</th>\n",
       "      <td>314625.69</td>\n",
       "    </tr>\n",
       "  </tbody>\n",
       "</table>\n",
       "</div>"
      ],
      "text/plain": [
       "           tiv_2012\n",
       "policyID           \n",
       "100074     36878.76\n",
       "100123      6774.39\n",
       "100141    559055.01\n",
       "100183     75451.36\n",
       "100203    314625.69"
      ]
     },
     "execution_count": 110,
     "metadata": {},
     "output_type": "execute_result"
    }
   ],
   "source": [
    "policy_s = pd.DataFrame(df.groupby('policyID')['tiv_2012'] .mean()) \n",
    "policy_s.head()"
   ]
  },
  {
   "cell_type": "code",
   "execution_count": null,
   "metadata": {},
   "outputs": [],
   "source": []
  }
 ],
 "metadata": {
  "kernelspec": {
   "display_name": "Python 3",
   "language": "python",
   "name": "python3"
  },
  "language_info": {
   "codemirror_mode": {
    "name": "ipython",
    "version": 3
   },
   "file_extension": ".py",
   "mimetype": "text/x-python",
   "name": "python",
   "nbconvert_exporter": "python",
   "pygments_lexer": "ipython3",
   "version": "3.8.2"
  }
 },
 "nbformat": 4,
 "nbformat_minor": 4
}
